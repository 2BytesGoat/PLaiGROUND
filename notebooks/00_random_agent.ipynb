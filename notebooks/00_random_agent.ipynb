{
 "cells": [
  {
   "cell_type": "code",
   "execution_count": 1,
   "id": "bfc5fa7c-059c-4c79-9858-bb14bbc79b08",
   "metadata": {},
   "outputs": [],
   "source": [
    "import numpy as np\n",
    "from godot_rl.wrappers.stable_baselines_wrapper import StableBaselinesGodotEnv"
   ]
  },
  {
   "cell_type": "code",
   "execution_count": 2,
   "id": "6a9ecddb-95ec-4f4e-8351-70cf4a108b46",
   "metadata": {},
   "outputs": [
    {
     "name": "stdout",
     "output_type": "stream",
     "text": [
      "No game binary has been provided, please press PLAY in the Godot editor\n",
      "waiting for remote GODOT connection on port 11008\n",
      "Interrupted\n"
     ]
    }
   ],
   "source": [
    "env = None\n",
    "\n",
    "try:\n",
    "    # initialize the Python server that the game is going to connect to\n",
    "    env = StableBaselinesGodotEnv(\n",
    "        # env_path=\"../rl_env/DragonJump.app\", # comment this line if running in Docker\n",
    "        show_window=True\n",
    "    )\n",
    "    \n",
    "    # GET THE INITIAL STATE OF THE GAME\n",
    "    obs = env.reset()\n",
    "    \n",
    "    # GET NUMBER OF CONCURENT AGENTS IN ONE ENVIRONMENT\n",
    "    nb_agents = len(obs[\"obs\"])\n",
    "    \n",
    "    while True:\n",
    "        # TAKE A RANDOM ACTION FOR EACH AGENT\n",
    "        actions = [env.action_space.sample() for _ in range(nb_agents)]\n",
    "    \n",
    "        # FORMAT THE ACTIONS AS A NUMPY ARRAY\n",
    "        actions = np.array(actions, dtype=np.int64)\n",
    "    \n",
    "        # EXECUTE THE ACTIONS INSIDE THE ENVIRONMENT\n",
    "        obs, reward, done, info = env.step(actions)\n",
    "    \n",
    "        # IF ANY OF THE AGENTS FINISHES OR TIME EXPIRES END THE LOOP\n",
    "        if any(done):\n",
    "            break\n",
    "\n",
    "except KeyboardInterrupt:\n",
    "    print('Interrupted')\n",
    "finally:\n",
    "    if env:\n",
    "        env.close()\n"
   ]
  },
  {
   "cell_type": "code",
   "execution_count": null,
   "id": "57f625be-3094-4cad-8661-06d98437dfda",
   "metadata": {},
   "outputs": [],
   "source": []
  }
 ],
 "metadata": {
  "kernelspec": {
   "display_name": ".venv",
   "language": "python",
   "name": "python3"
  },
  "language_info": {
   "codemirror_mode": {
    "name": "ipython",
    "version": 3
   },
   "file_extension": ".py",
   "mimetype": "text/x-python",
   "name": "python",
   "nbconvert_exporter": "python",
   "pygments_lexer": "ipython3",
   "version": "3.13.1"
  }
 },
 "nbformat": 4,
 "nbformat_minor": 5
}
